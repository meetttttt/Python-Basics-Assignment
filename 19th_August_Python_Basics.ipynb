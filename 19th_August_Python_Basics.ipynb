{
 "cells": [
  {
   "cell_type": "markdown",
   "id": "223de1cf-a74d-4138-a46d-7aeb5daabfb7",
   "metadata": {},
   "source": [
    "# TOPIC: Python Basics Variable"
   ]
  },
  {
   "cell_type": "markdown",
   "id": "f1f5a47c-56b4-4052-acb9-aef756845963",
   "metadata": {},
   "source": [
    "Q1. Declare two variables, `x` and `y`, and assign them integer values. Swap the\n",
    "values of these variables without using any temporary variable."
   ]
  },
  {
   "cell_type": "code",
   "execution_count": 1,
   "id": "cc0767da-3edd-4f48-a2a5-c4a44bb60447",
   "metadata": {},
   "outputs": [
    {
     "name": "stdout",
     "output_type": "stream",
     "text": [
      "Before swapping numbers:\n",
      "x = 50\n",
      "y = 10\n",
      "After swapping numbers:\n",
      "x = 10\n",
      "y = 50\n"
     ]
    }
   ],
   "source": [
    "# Declare and initialize two variables\n",
    "x = 50\n",
    "y = 10\n",
    "\n",
    "# Before swapping\n",
    "print(\"Before swapping numbers:\")\n",
    "print(\"x =\", x)\n",
    "print(\"y =\", y)\n",
    "\n",
    "# Swap the values without using a temporary variable\n",
    "x, y = y, x\n",
    "\n",
    "# After swapping\n",
    "print(\"After swapping numbers:\")\n",
    "print(\"x =\", x)\n",
    "print(\"y =\", y)"
   ]
  },
  {
   "cell_type": "markdown",
   "id": "cc20e5ef-f35b-4a83-b1cc-9b59dedf8d3c",
   "metadata": {},
   "source": [
    "Q2. Create a program that calculates the area of a rectangle. Take the length and\n",
    "width as inputs from the user and store them in variables. Calculate and\n",
    "display the area."
   ]
  },
  {
   "cell_type": "code",
   "execution_count": 2,
   "id": "339871f1-aac6-43ee-a0fe-2430e73effce",
   "metadata": {},
   "outputs": [
    {
     "name": "stdin",
     "output_type": "stream",
     "text": [
      "Enter the length of the rectangle:  10.3\n",
      "Enter the width of the rectangle:  5.3\n"
     ]
    },
    {
     "name": "stdout",
     "output_type": "stream",
     "text": [
      "The area of the rectangle with length 10.3 and width 5.3 is: 54.59\n"
     ]
    }
   ],
   "source": [
    "# Prompt the user for input the lenght and width\n",
    "length = float(input(\"Enter the length of the rectangle: \"))  # Get the length as a floating-point number\n",
    "width = float(input(\"Enter the width of the rectangle: \"))    # Get the width as a floating-point number\n",
    "\n",
    "# Calculate the area of the rectangle\n",
    "area = length * width  # Multiply the length and width to calculate the area\n",
    "\n",
    "# Display the result\n",
    "print(\"The area of the rectangle with length\", length, \"and width\", width, \"is:\", area)"
   ]
  },
  {
   "cell_type": "markdown",
   "id": "69e79678-d832-4aff-aff0-eb17d31c445f",
   "metadata": {},
   "source": [
    "Q3. Write a Python program that converts temperatures from Celsius to\n",
    "Fahrenheit. Take the temperature in Celsius as input, store it in a variable,\n",
    "convert it to Fahrenheit, and display the result."
   ]
  },
  {
   "cell_type": "code",
   "execution_count": 3,
   "id": "3f8c2617-1187-4645-8eba-113eec5fc57c",
   "metadata": {},
   "outputs": [
    {
     "name": "stdin",
     "output_type": "stream",
     "text": [
      "Enter the temperature in Celsius:  45\n"
     ]
    },
    {
     "name": "stdout",
     "output_type": "stream",
     "text": [
      "The temperature in Fahrenheit is: 113.0\n"
     ]
    }
   ],
   "source": [
    "# Prompt the user for the temperature in Celsius\n",
    "celsius = float(input(\"Enter the temperature in Celsius: \"))\n",
    "\n",
    "# Convert Celsius to Fahrenheit using the formula: F = (C * 9/5) + 32\n",
    "fahrenheit = (celsius * 9/5) + 32\n",
    "\n",
    "# Display the result\n",
    "print(\"The temperature in Fahrenheit is:\", fahrenheit)"
   ]
  },
  {
   "cell_type": "markdown",
   "id": "9eeeb967-aa71-4dce-866d-360aac5b7c86",
   "metadata": {},
   "source": [
    "# TOPIC: String Based Questions"
   ]
  },
  {
   "cell_type": "markdown",
   "id": "084103bc-bb15-4f55-bfae-854b7b19323c",
   "metadata": {},
   "source": [
    "Q1. Write a Python program that takes a string as input and prints the length of\n",
    "the string."
   ]
  },
  {
   "cell_type": "code",
   "execution_count": 4,
   "id": "1da460ec-9ff6-4f4d-a631-c9fd13210d63",
   "metadata": {},
   "outputs": [
    {
     "name": "stdin",
     "output_type": "stream",
     "text": [
      "Enter a string:  This is python!!\n"
     ]
    },
    {
     "name": "stdout",
     "output_type": "stream",
     "text": [
      "The length of the string is: 16\n"
     ]
    }
   ],
   "source": [
    "##### Prompt the user for input\n",
    "input_string = input(\"Enter a string: \")\n",
    "\n",
    "# Calculate the length of the string\n",
    "string_length = len(input_string)\n",
    "\n",
    "# Display the length of the string\n",
    "print(\"The length of the string is:\", string_length)"
   ]
  },
  {
   "cell_type": "markdown",
   "id": "21b07a76-5a69-4253-972a-d6409c7e8517",
   "metadata": {},
   "source": [
    "Q2. Create a program that takes a sentence from the user and counts the number\n",
    "of vowels (a, e, i, o, u) in the string."
   ]
  },
  {
   "cell_type": "code",
   "execution_count": 6,
   "id": "be7cf158-acfa-44b1-a8d4-b8d58ac7f584",
   "metadata": {},
   "outputs": [
    {
     "name": "stdin",
     "output_type": "stream",
     "text": [
      "Enter a sentence:  Hello, This is Python!!\n"
     ]
    },
    {
     "name": "stdout",
     "output_type": "stream",
     "text": [
      "The number of vowels in the sentence is: 5\n"
     ]
    }
   ],
   "source": [
    "# Prompt the user for input\n",
    "sentence = input(\"Enter a sentence: \")\n",
    "sentence = sentence.lower()\n",
    "\n",
    "# Initialize a variable to count the vowels\n",
    "vowel_count = 0\n",
    "\n",
    "# Define a set of vowels\n",
    "vowels = \"aeiou\"\n",
    "\n",
    "# Iterate through each character in the sentence\n",
    "for char in sentence:\n",
    "    # Check if the character is a vowel\n",
    "    if char in vowels:\n",
    "        vowel_count += 1\n",
    "\n",
    "# Display the vowel count\n",
    "print(\"The number of vowels in the sentence is:\", vowel_count)"
   ]
  },
  {
   "cell_type": "markdown",
   "id": "bfca11e7-11e7-4c6c-87c2-b5b36ef9ecd4",
   "metadata": {},
   "source": [
    "Q3. Given a string, reverse the order of characters using string slicing and print\n",
    "the reversed string."
   ]
  },
  {
   "cell_type": "code",
   "execution_count": 8,
   "id": "3f23eb3a-3912-4c61-afd7-b4b5f30a3b39",
   "metadata": {},
   "outputs": [
    {
     "name": "stdin",
     "output_type": "stream",
     "text": [
      "Enter a string:  This is the string!!\n"
     ]
    },
    {
     "name": "stdout",
     "output_type": "stream",
     "text": [
      "Original string:  This is the string!!\n",
      "Reversed string: !!gnirts eht si sihT\n"
     ]
    }
   ],
   "source": [
    "# Prompt the user for input\n",
    "input_string = input(\"Enter a string: \")\n",
    "\n",
    "# Displaying the original string\n",
    "print(\"Original string: \", input_string)\n",
    "\n",
    "# Reverse the string using string slicing\n",
    "reversed_string = input_string[::-1]\n",
    "\n",
    "# Display the reversed string\n",
    "print(\"Reversed string:\", reversed_string)"
   ]
  },
  {
   "cell_type": "markdown",
   "id": "667a639a-9114-44df-b076-bc752222d19d",
   "metadata": {},
   "source": [
    "Q 4. Write a program that takes a string as input and checks if it is a palindrome\n",
    "(reads the same forwards and backwards)."
   ]
  },
  {
   "cell_type": "code",
   "execution_count": 9,
   "id": "bb0ea4ad-983d-4451-8837-2c9eab942ce0",
   "metadata": {},
   "outputs": [
    {
     "name": "stdin",
     "output_type": "stream",
     "text": [
      "Enter a string:  ThehT\n"
     ]
    },
    {
     "name": "stdout",
     "output_type": "stream",
     "text": [
      "The string is a palindrome.\n"
     ]
    }
   ],
   "source": [
    "# Prompt the user for input\n",
    "input_string = input(\"Enter a string: \")\n",
    "\n",
    "# Remove spaces and convert the string to lowercase for case-insensitive comparison\n",
    "cleaned_string = input_string.replace(\" \", \"\").lower()\n",
    "\n",
    "# Reverse the cleaned string using string slicing\n",
    "reversed_string = cleaned_string[::-1]\n",
    "\n",
    "# Check if the cleaned string is the same as its reverse\n",
    "if cleaned_string == reversed_string:\n",
    "    print(\"The string is a palindrome.\")\n",
    "else:\n",
    "    print(\"The string is not a palindrome.\")"
   ]
  },
  {
   "cell_type": "markdown",
   "id": "b272202e-8c08-45cc-9d6a-e3a08d4b631e",
   "metadata": {},
   "source": [
    "Q 5. Create a program that takes a string as input and removes all the spaces from\n",
    "it. Print the modified string without spaces."
   ]
  },
  {
   "cell_type": "code",
   "execution_count": 11,
   "id": "95d5551b-7289-47ab-8765-302c95fbe5fd",
   "metadata": {},
   "outputs": [
    {
     "name": "stdin",
     "output_type": "stream",
     "text": [
      "Enter a string:  This is the string \n"
     ]
    },
    {
     "name": "stdout",
     "output_type": "stream",
     "text": [
      "Modified string without spaces: Thisisthestring\n"
     ]
    }
   ],
   "source": [
    "# Prompt the user for input\n",
    "input_string = input(\"Enter a string: \")\n",
    "\n",
    "# Displaying the strings with spaces\n",
    "print(\"Original string with spaces\", input_string)\n",
    "\n",
    "# Remove spaces from the input string using the replace() method\n",
    "modified_string = input_string.replace(\" \", \"\")\n",
    "\n",
    "# Display the modified string without spaces\n",
    "print(\"Modified string without spaces:\", modified_string)"
   ]
  }
 ],
 "metadata": {
  "kernelspec": {
   "display_name": "Python 3 (ipykernel)",
   "language": "python",
   "name": "python3"
  },
  "language_info": {
   "codemirror_mode": {
    "name": "ipython",
    "version": 3
   },
   "file_extension": ".py",
   "mimetype": "text/x-python",
   "name": "python",
   "nbconvert_exporter": "python",
   "pygments_lexer": "ipython3",
   "version": "3.10.8"
  }
 },
 "nbformat": 4,
 "nbformat_minor": 5
}
